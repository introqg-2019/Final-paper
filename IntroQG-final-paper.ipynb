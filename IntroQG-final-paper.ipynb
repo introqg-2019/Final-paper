{
 "cells": [
  {
   "cell_type": "markdown",
   "metadata": {},
   "source": [
    "# Title\n",
    "\n",
    "## Name\n",
    "## December XX, 2019"
   ]
  },
  {
   "cell_type": "markdown",
   "metadata": {},
   "source": [
    "## Final paper instructions (DELETE THIS CELL BEFORE SUBMITTING)\n",
    "\n",
    "The final task for the course is to write a formal scientific paper about the results of Exercises 6 and 7.\n",
    "\n",
    "- The report should not be longer than **2000-2500 words**, not including the code cells and references.\n",
    "- All instruction text (in italics) other than headings in the cells below can be deleted before you submit your final version\n",
    "- Please keep the main headings used in this document, but feel free to add code cells (or other Markdown cells) as needed to produce the plots you would like to include in your document.\n",
    "    - I suggest you put the code at the end of this document in the Appendix section and run those cells first. You can then insert code cells as needed to be able to call the `age_predict` function to produce the plots.\n",
    "        - Alternatively, you can also include images using the normal Markdown format.\n",
    "- The final paper is due by 17.00 on 20.12.\n",
    "- Grading for the paper is described in the [grading rubric](https://introqg.github.io/site/_static/docs/IntroQG_final_project_grade_table.pdf).\n",
    "\n",
    "Of course, figures from other articles are welcome to be included in your paper. An example figure is below.\n",
    "\n",
    "![A wolverine](img/wolverine.jpg)<br/>\n",
    "*Figure 1. A wolverine pondering what to eat next. You might think to include a more relevant figure*.\n",
    "\n",
    "Also, when referencing an article I am not strict on the formatting, but here is an example.\n",
    "We can use Dodson's equation (Dodson, 1973) to calculate thermochronometer ages.\n",
    "You can find the reference information below."
   ]
  },
  {
   "cell_type": "markdown",
   "metadata": {},
   "source": [
    "## Abstract\n",
    "\n",
    "*A summary of the exercise and your results not longer than 250 words*.\n",
    "\n"
   ]
  },
  {
   "cell_type": "markdown",
   "metadata": {},
   "source": [
    "## Introduction\n",
    "\n",
    "- *2-4 paragraphs in length*\n",
    "- *Clearly state the problem you are addressing (or hypothesis being tested) and it’s significance. This should be at least 1 paragraph long*.\n",
    "- *Provide background information on the topic (e.g., from lecture notes and other sources including the reference papers below). This should be at least 1 paragraph long*.\n",
    "- *Provide 1 short paragraph about how this exercise contributes to understanding the stated problem*.\n",
    "\n"
   ]
  },
  {
   "cell_type": "markdown",
   "metadata": {},
   "source": [
    "## Geological background\n",
    "\n",
    "- *1-3 paragraphs in length*\n",
    "- *Include a general overview of the main features of the study region, such as the major faults, rock units, variations in rainfall, etc*.\n",
    "- *The goal here is to provide enough information to understand the main “drivers” of uplift and erosion of the thermochronometer data you’re studying*.\n",
    "\n"
   ]
  },
  {
   "cell_type": "markdown",
   "metadata": {},
   "source": [
    "## Methods\n",
    "\n",
    "\n",
    "- *Clearly state the different methods used for each part of the exercise*.\n",
    "- *For example, what equations are you solving in each part of the report, what are the variables or free parameters in each equation, how did you calculate the solution. Most probably you will want to have one paragraph to describe the thermal model and another to describe how thermochronometer ages are calculated*.\n",
    "\n"
   ]
  },
  {
   "cell_type": "markdown",
   "metadata": {},
   "source": [
    "## Results\n",
    "\n",
    "- *At least 1 paragraph in length*.\n",
    "- *This part describes the results from your experiments (such as the exhumation rate that provide a minimum goodness-of-fit to the data). Include selected figures from Exercises 6 and 7. You should provide figure captions and at least 1 paragraph of text that describes each figure*.\n",
    "- **NOTE**: *The results section should only contain observations that resulted from your experiment. No interpretations of the results should be included in this section*.\n",
    "\n"
   ]
  },
  {
   "cell_type": "markdown",
   "metadata": {},
   "source": [
    "## Discussion\n",
    "\n",
    "- *Several paragraphs in length*.\n",
    "- *This part of the report discusses your results. It can have multiple subsections if you desire. Any interpretation you make from your plots/calculations should be presented here*.\n",
    "- *Example discussion section topics include*:\n",
    "    - *How do the exhumation rates that provide a minimum misfit to the different thermochronometer age systems vary*?\n",
    "    - *How well do the model predictions compare to the measured ages*?\n",
    "    - *What are the limitations of the modeling approach and how do they affect the results*?\n",
    "    - *What are the implications of your results for the problem/hypothesis you stated in the introduction*?\n",
    "    - *Have you sufficiently tested your hypothesis or are more experiments needed*?\n",
    "    - *Any other topics you feel should be discussed about the implications of the model results*.\n",
    "\n"
   ]
  },
  {
   "cell_type": "markdown",
   "metadata": {},
   "source": [
    "## Conclusions/Summary\n",
    "\n",
    "- *1-2 paragraphs in length*.\n",
    "- *This should summarize the main findings of your exercise*.\n",
    "\n"
   ]
  },
  {
   "cell_type": "markdown",
   "metadata": {},
   "source": [
    "## References\n",
    "\n",
    "- *Include a list of cited references from your report. This list should include at least 5 primary sources*.\n",
    "    - *The [list of articles on the course page](https://introqg.github.io/qg/final-paper/articles.html) is a good place to start*.\n",
    "\n",
    "Example reference:\n",
    "\n",
    "Dodson, M.H., 1973. Closure temperature in cooling geochronological and petrological systems. Contributions to Mineralogy and Petrology, 40(3), pp.259-274."
   ]
  },
  {
   "cell_type": "markdown",
   "metadata": {},
   "source": [
    "## Appendix\n",
    "\n",
    "- *Include the code you will use to produce your plots in Python cells below*.\n",
    "    - *It may be helpful to include a one-sentence summary of what each cell does in a Markdown cell above the cell*.\n",
    "\n"
   ]
  },
  {
   "cell_type": "markdown",
   "metadata": {},
   "source": [
    "The cell below configures Matplotlib for inline plotting."
   ]
  },
  {
   "cell_type": "code",
   "execution_count": null,
   "metadata": {},
   "outputs": [],
   "source": [
    "# Configure Matplotlib plotting\n",
    "%matplotlib inline"
   ]
  },
  {
   "cell_type": "markdown",
   "metadata": {},
   "source": []
  },
  {
   "cell_type": "code",
   "execution_count": null,
   "metadata": {},
   "outputs": [],
   "source": []
  }
 ],
 "metadata": {
  "kernelspec": {
   "display_name": "Python 3",
   "language": "python",
   "name": "python3"
  },
  "language_info": {
   "codemirror_mode": {
    "name": "ipython",
    "version": 3
   },
   "file_extension": ".py",
   "mimetype": "text/x-python",
   "name": "python",
   "nbconvert_exporter": "python",
   "pygments_lexer": "ipython3",
   "version": "3.7.4"
  }
 },
 "nbformat": 4,
 "nbformat_minor": 2
}
